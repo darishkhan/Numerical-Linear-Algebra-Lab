{
  "cells": [
    {
      "cell_type": "markdown",
      "metadata": {
        "id": "view-in-github",
        "colab_type": "text"
      },
      "source": [
        "<a href=\"https://colab.research.google.com/github/darishkhan/Numerical-Linear-Algebra-Lab/blob/main/Assignment2.ipynb\" target=\"_parent\"><img src=\"https://colab.research.google.com/assets/colab-badge.svg\" alt=\"Open In Colab\"/></a>"
      ]
    },
    {
      "cell_type": "code",
      "execution_count": null,
      "metadata": {
        "id": "1E-V5gatuPWr"
      },
      "outputs": [],
      "source": [
        "import math\n",
        "import numpy as np\n",
        "from sympy import *\n",
        "from scipy.linalg import  lu"
      ]
    },
    {
      "cell_type": "code",
      "execution_count": null,
      "metadata": {
        "id": "HgRXRkvBujJh"
      },
      "outputs": [],
      "source": [
        "# LU decomposition without pivoting\n",
        "def luSelfnP_m(A):\n",
        "  n=len(A)\n",
        "  lower = np.zeros((n,n))\n",
        "  upper = np.zeros((n,n))\n",
        "\n",
        "  for i in range(n):\n",
        "      for k in range(i, n):\n",
        "          sum = 0\n",
        "          for j in range(i):\n",
        "              sum += (lower[i,j] * upper[j,k])\n",
        "          upper[i,k] = A[i,k] - sum\n",
        "\n",
        "      for k in range(i, n):\n",
        "          if (i == k):\n",
        "              lower[i,i] = 1\n",
        "          else:\n",
        "              sum = 0\n",
        "              for j in range(i):\n",
        "                  sum += (lower[k,j] * upper[j,i])\n",
        "              lower[k,i] =((A[k,i] - sum) /upper[i,i])\n",
        "  # return L and U\n",
        "  return(lower, upper)"
      ]
    },
    {
      "cell_type": "code",
      "execution_count": null,
      "metadata": {
        "id": "gxY7i5z3vIXE"
      },
      "outputs": [],
      "source": [
        "# function for forward substitution\n",
        "def bdSubs_m(L, b):\n",
        "    n = len(L)\n",
        "    ans = []\n",
        "    for i in range(n-1,-1,-1):\n",
        "        k = b[i]\n",
        "        for j in range(n-1,i,-1):\n",
        "            k -= L[i,j] * ans[n-j-1]\n",
        "        ans.append(k/L[i,i])\n",
        "    return np.flip(ans)"
      ]
    },
    {
      "cell_type": "code",
      "execution_count": null,
      "metadata": {
        "id": "DXCuYMekvMA8"
      },
      "outputs": [],
      "source": [
        "# function for forward substitution\n",
        "def fdSubs_m(L, b):\n",
        "    ans=[]\n",
        "    n = len(L)\n",
        "    for i in range(n):\n",
        "        k=b[i]\n",
        "        for j in range(i):\n",
        "            k-=L[i,j]*ans[j]\n",
        "        ans.append(k/L[i,i])\n",
        "    return ans"
      ]
    },
    {
      "cell_type": "code",
      "execution_count": null,
      "metadata": {
        "colab": {
          "base_uri": "https://localhost:8080/"
        },
        "id": "vhlAIeRjunp8",
        "outputId": "cdf9c038-ea27-40af-e5e6-bedad1620306"
      },
      "outputs": [
        {
          "output_type": "stream",
          "name": "stdout",
          "text": [
            "A = \n",
            " [[1.e-17 1.e+00]\n",
            " [1.e+00 1.e+00]]\n",
            "By process, X =  [0. 1.]\n",
            "By direct solver, X =  [-1.  1.]\n",
            "\n",
            "A = \n",
            " [[1.e-10 1.e+00]\n",
            " [1.e+00 1.e+00]]\n",
            "By process, X =  [-1.00000008  1.        ]\n",
            "By direct solver, X =  [-1.  1.]\n",
            "\n",
            "A = \n",
            " [[1.e-15 1.e+00]\n",
            " [1.e+00 1.e+00]]\n",
            "By process, X =  [-1.11022302  1.        ]\n",
            "By direct solver, X =  [-1.  1.]\n"
          ]
        }
      ],
      "source": [
        "#Q1.\n",
        "\n",
        "n = 2\n",
        "A = np.ones((n, n))\n",
        "A[0, 0] = math.pow(10, -17)\n",
        "print(\"A = \\n\", A)\n",
        "b = np.array([1, 0])\n",
        "L, U = luSelfnP_m(A)\n",
        "# L = np.round(L, 2)\n",
        "# U = np.round(U, 2)\n",
        "Y = fdSubs_m(L, b)\n",
        "X = bdSubs_m(U, Y)\n",
        "print(\"By process, X = \", X)\n",
        "print(\"By direct solver, X = \",np.linalg.solve(A, b))\n",
        "\n",
        "A[0, 0] = math.pow(10, -10)\n",
        "print(\"\\nA = \\n\",A)\n",
        "L, U = luSelfnP_m(A)\n",
        "Y = fdSubs_m(L, b)\n",
        "X = bdSubs_m(U, Y)\n",
        "print(\"By process, X = \", X)\n",
        "print(\"By direct solver, X = \",np.linalg.solve(A, b))\n",
        "\n",
        "A[0, 0] = math.pow(10, -15)\n",
        "print(\"\\nA = \\n\",A)\n",
        "L, U = luSelfnP_m(A)\n",
        "Y = fdSubs_m(L, b)\n",
        "X = bdSubs_m(U, Y)\n",
        "print(\"By process, X = \", X)\n",
        "print(\"By direct solver, X = \",np.linalg.solve(A, b))"
      ]
    },
    {
      "cell_type": "code",
      "source": [
        "#function for LU decomposition with pivoting\n",
        "def luSelfwP_m(A):\n",
        "  n=len(A)\n",
        "  lower = np.zeros((n,n))\n",
        "  upper = np.zeros((n,n))\n",
        "  pivot = np.zeros((n,n))\n",
        "\n",
        "  # for pivoting\n",
        "  for i in range(n):\n",
        "    pivot[i, i]=1\n",
        "  for i in range(n):\n",
        "    maxv = abs(A[i, i])\n",
        "    maxi = i\n",
        "    for j in range(i+1, n):\n",
        "      if(maxv < abs(A[j, i])):\n",
        "        maxv = abs(A[j, i])\n",
        "        maxi = j\n",
        "\n",
        "    if(maxi > i):\n",
        "      A[[i, maxi]] = A[[maxi, i]]\n",
        "      pivot[[i, maxi]] = pivot[[maxi, i]]\n",
        "\n",
        "  # then apply dolittle algorithm\n",
        "  for i in range(n):\n",
        "      for k in range(i, n):\n",
        "          sum = 0\n",
        "          for j in range(i):\n",
        "              sum += (lower[i,j] * upper[j,k])\n",
        "          upper[i,k] = A[i,k] - sum\n",
        "\n",
        "      for k in range(i, n):\n",
        "          if (i == k):\n",
        "              lower[i,i] = 1\n",
        "          else:\n",
        "              sum = 0\n",
        "              for j in range(i):\n",
        "                  sum += (lower[k,j] * upper[j,i])\n",
        "              lower[k,i] =((A[k,i] - sum) /upper[i,i])\n",
        "  # return P, L and U\n",
        "  return(pivot, lower, upper)\n"
      ],
      "metadata": {
        "id": "0rT7dXYDptd8"
      },
      "execution_count": null,
      "outputs": []
    },
    {
      "cell_type": "code",
      "source": [
        "n = 2\n",
        "A = np.ones((n, n))\n",
        "A[0, 0] = math.pow(10, -17)\n",
        "b = np.array([1, 0])\n",
        "\n",
        "print(\"By direct solver, X = \",np.linalg.solve(A, b))\n",
        "\n",
        "P, L, U = luSelfwP_m(A)\n",
        "print(\"\\nP = \\n\", P)\n",
        "print(\"L = \\n\", L)\n",
        "print(\"U = \\n\", U)\n",
        "print(np.dot(L, U))\n",
        "\n",
        "Y = fdSubs_m(L, np.dot(P,b))\n",
        "X = bdSubs_m(U, Y)\n",
        "print(\"By process, X = \", X)\n"
      ],
      "metadata": {
        "colab": {
          "base_uri": "https://localhost:8080/"
        },
        "id": "941lCot_vwES",
        "outputId": "b72566f1-d6dc-4929-8def-d3b72a9c035d"
      },
      "execution_count": null,
      "outputs": [
        {
          "output_type": "stream",
          "name": "stdout",
          "text": [
            "By direct solver, X =  [-1.  1.]\n",
            "\n",
            "P = \n",
            " [[0. 1.]\n",
            " [1. 0.]]\n",
            "L = \n",
            " [[1.e+00 0.e+00]\n",
            " [1.e-17 1.e+00]]\n",
            "U = \n",
            " [[1. 1.]\n",
            " [0. 1.]]\n",
            "[[1.e+00 1.e+00]\n",
            " [1.e-17 1.e+00]]\n",
            "By process, X =  [-1.  1.]\n"
          ]
        }
      ]
    },
    {
      "cell_type": "code",
      "source": [
        "#loop for i\n",
        "for i in [20, 40, 60, 100]:\n",
        "  print(\"\\n\")\n",
        "  #generate random matrices\n",
        "  A = np.random.random_sample((i, i))\n",
        "  A[0,0] = math.pow(10, -20)\n",
        "\n",
        "  L, U = luSelfnP_m(A)\n",
        "  norm1 = np.linalg.norm(A - np.dot(L, U))\n",
        "  print(\"Norm from luSelfnP_m = \", norm1)\n",
        "\n",
        "  P, L, U = luSelfwP_m(A)\n",
        "  norm2 = np.linalg.norm(np.dot(P, A) - np.dot(L, U))\n",
        "  print(\"Norm from luSelfnP_m = \", norm2)\n",
        "\n",
        "  P, L, U = lu(A)\n",
        "  norm3 = np.linalg.norm(np.dot(P, A) - np.dot(L, U))\n",
        "  print(\"Norm from lu function= \", norm3)"
      ],
      "metadata": {
        "colab": {
          "base_uri": "https://localhost:8080/"
        },
        "id": "GtM-VwoiIWd8",
        "outputId": "49f3bb13-21d2-4779-d6d8-83dea60fdf12"
      },
      "execution_count": null,
      "outputs": [
        {
          "output_type": "stream",
          "name": "stdout",
          "text": [
            "\n",
            "\n",
            "Norm from luSelfnP_m =  36111.40788526292\n",
            "Norm from luSelfnP_m =  7.928337876046487\n",
            "Norm from lu function=  7.230776602632638\n",
            "\n",
            "\n",
            "Norm from luSelfnP_m =  69460.10693989656\n",
            "Norm from luSelfnP_m =  15.961763523758957\n",
            "Norm from lu function=  15.46814051895272\n",
            "\n",
            "\n",
            "Norm from luSelfnP_m =  83419.38416224765\n",
            "Norm from luSelfnP_m =  24.0472807909199\n",
            "Norm from lu function=  23.72459404414017\n",
            "\n",
            "\n",
            "Norm from luSelfnP_m =  236860.17698411376\n",
            "Norm from luSelfnP_m =  40.92716886029488\n",
            "Norm from lu function=  40.09137069570498\n"
          ]
        }
      ]
    },
    {
      "cell_type": "code",
      "execution_count": null,
      "metadata": {
        "colab": {
          "base_uri": "https://localhost:8080/"
        },
        "id": "b7waRselu9SY",
        "outputId": "655ee362-5731-4fbb-a858-f2078bc577c4"
      },
      "outputs": [
        {
          "output_type": "stream",
          "name": "stdout",
          "text": [
            "Matrix is: \n",
            " [[ 1.  3.  3.]\n",
            " [ 2.  7.  5.]\n",
            " [ 3. 10.  8.]\n",
            " [ 5.  2.  7.]]\n",
            "RREF calculated by created function: \n",
            " [[1. 0. 0.]\n",
            " [0. 1. 0.]\n",
            " [0. 0. 1.]\n",
            " [0. 0. 0.]]\n",
            "RREF by .rref() command: \n",
            " [[1 0 0]\n",
            " [0.0 1 0]\n",
            " [0.0 0.0 1]\n",
            " [0.0 0.0 0.0]]\n"
          ]
        }
      ],
      "source": [
        "#Q4.\n",
        "# function for computing RREF\n",
        "def rrefSelfwP_m(A):\n",
        "  m, n = np.shape(A)\n",
        "  i, l=0, 0\n",
        "  while(i<m and l<n):\n",
        "    mx=i\n",
        "    mxv=abs(A[i, l])\n",
        "\n",
        "    for j in range(i+1, m):\n",
        "      if mxv<abs(A[j, i]):\n",
        "        mxv = abs(A[j, i])\n",
        "        mx = j\n",
        "\n",
        "    if(mx>i):\n",
        "      A[[i,mx]] = A[[mx, i]]\n",
        "    if(A[i,l]==0):\n",
        "      l+=1\n",
        "      continue\n",
        "\n",
        "    for j in range(i+1, m):\n",
        "      mul = A[i, l]/A[j, l]\n",
        "      A[j] = np.round(A[j] - (A[i]/mul), 2)\n",
        "\n",
        "    mul = A[i, l]\n",
        "    for j in range(l, n):\n",
        "      A[i, j] = np.round(A[i, j]/mul , 2)\n",
        "    i+=1\n",
        "    l+=1\n",
        "  i=1\n",
        "\n",
        "  while(i<m):\n",
        "    j=i\n",
        "    while(j<n):\n",
        "      if(A[i, j]==1):\n",
        "        break\n",
        "      j+=1\n",
        "    if(j>=n):\n",
        "       break\n",
        "    for k in range(i-1, -1, -1):\n",
        "      mul = A[i, j]/A[k, j]\n",
        "      A[k] = np.round(A[k] -(A[i]/mul),2)\n",
        "    i+=1\n",
        "\n",
        "  return A\n",
        "\n",
        "\n",
        "A = np.array([[ 1., 3, 3],\n",
        "              [ 2, 7, 5],\n",
        "              [ 3, 10, 8],\n",
        "              [5, 2 , 7]])\n",
        "\n",
        "print(\"Matrix is: \\n\", A)\n",
        "print(\"RREF calculated by created function: \\n\", rrefSelfwP_m(A))\n",
        "\n",
        "A=Matrix(A)\n",
        "A = np.array(A.rref()[0])\n",
        "\n",
        "print(\"RREF by .rref() command: \\n\", A)"
      ]
    },
    {
      "cell_type": "code",
      "source": [],
      "metadata": {
        "id": "hzvCnj43MrKY"
      },
      "execution_count": null,
      "outputs": []
    }
  ],
  "metadata": {
    "colab": {
      "provenance": [],
      "authorship_tag": "ABX9TyPTM95bQG8CPFPTse0RxDmH",
      "include_colab_link": true
    },
    "kernelspec": {
      "display_name": "Python 3",
      "name": "python3"
    },
    "language_info": {
      "name": "python"
    }
  },
  "nbformat": 4,
  "nbformat_minor": 0
}