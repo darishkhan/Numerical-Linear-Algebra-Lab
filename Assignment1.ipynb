{
  "nbformat": 4,
  "nbformat_minor": 0,
  "metadata": {
    "colab": {
      "provenance": [],
      "authorship_tag": "ABX9TyPOdvij+F1wsYdE9kmwhLs0",
      "include_colab_link": true
    },
    "kernelspec": {
      "name": "python3",
      "display_name": "Python 3"
    },
    "language_info": {
      "name": "python"
    }
  },
  "cells": [
    {
      "cell_type": "markdown",
      "metadata": {
        "id": "view-in-github",
        "colab_type": "text"
      },
      "source": [
        "<a href=\"https://colab.research.google.com/github/darishkhan/Numerical-Linear-Algebra-Lab/blob/main/Assignment1.ipynb\" target=\"_parent\"><img src=\"https://colab.research.google.com/assets/colab-badge.svg\" alt=\"Open In Colab\"/></a>"
      ]
    },
    {
      "cell_type": "markdown",
      "source": [
        "Name: Mohd Darish Khan\n",
        "\n",
        "Roll: 2101MC29\n",
        "\n",
        "Assignment 1\n"
      ],
      "metadata": {
        "id": "N-LREUqPQEcY"
      }
    },
    {
      "cell_type": "code",
      "execution_count": null,
      "metadata": {
        "id": "wNmzZZyVPOzX"
      },
      "outputs": [],
      "source": [
        "# import all libraries used\n",
        "import numpy as np\n",
        "import timeit as tm\n",
        "import openpyxl as ox\n",
        "import matplotlib.pyplot as plt\n",
        "from scipy.linalg import toeplitz, lu"
      ]
    },
    {
      "cell_type": "code",
      "source": [
        "A = np.array([[2, -1, 0], [-1, 2, 1], [0, -1, 2]])\n",
        "L =np.linalg.cholesky(A)\n",
        "print(L)"
      ],
      "metadata": {
        "colab": {
          "base_uri": "https://localhost:8080/"
        },
        "id": "siHmknS42cA6",
        "outputId": "de9d1fa7-844e-455d-d845-a24edbb3f73d"
      },
      "execution_count": null,
      "outputs": [
        {
          "output_type": "stream",
          "name": "stdout",
          "text": [
            "[[ 1.41421356  0.          0.        ]\n",
            " [-0.70710678  1.22474487  0.        ]\n",
            " [ 0.         -0.81649658  1.15470054]]\n"
          ]
        }
      ]
    },
    {
      "cell_type": "code",
      "source": [
        "# Q1.\n",
        "\n",
        "# initialze a table\n",
        "table = [[\"size\"],[\"time1\"],[\"time2\"]]\n",
        "\n",
        "for i in range(500, 1001, 50):\n",
        "  # generate A and b with random variables\n",
        "  A = np.random.random_sample((i, i))\n",
        "  b = np.random.random_sample((i))\n",
        "\n",
        "  # measure the time elapsed by direct solver\n",
        "  start1 = tm.default_timer()\n",
        "  x = np.linalg.solve(A, b)\n",
        "  end1 = tm.default_timer()\n",
        "\n",
        "  # measure the time elapsed by inverse method\n",
        "  start2 = tm.default_timer()\n",
        "  x = np.dot(np.linalg.inv(A) , b)\n",
        "  end2 = tm.default_timer()\n",
        "\n",
        "  # update tabble entries\n",
        "  table[0].append(i)\n",
        "  table[1].append((round(end1-start1,3)))\n",
        "  table[2].append((round(end2-start2,3)))\n",
        "\n",
        "# create and write in the excel file\n",
        "wb = ox.Workbook()\n",
        "sheet = wb.active\n",
        "for i in range(3):\n",
        "  for j in range(len(table[0])):\n",
        "    c = sheet.cell(row = j+1, column = i+1)\n",
        "    c.value = table[i][j]\n",
        "wb.save(\"L1Q1.xlsx\")\n",
        "\n",
        "# read the excel file\n",
        "wb = ox.load_workbook(\"L1Q1.xlsx\")\n",
        "sheet = wb.active\n",
        "data = [[\"size\"],[\"time1\"],[\"time2\"]]\n",
        "for i in range(3):\n",
        "  for j in range(sheet.max_row):\n",
        "    data[i].append(sheet.cell(row = j+1,column = i+1).value)\n",
        "\n",
        "# plot graph from the read data\n",
        "plt.plot(data[0][2:], data[1][2:])\n",
        "plt.plot(data[0][2:], data[2][2:])\n",
        "plt.xlabel(\"Size of Matrice\")\n",
        "plt.ylabel(\"Time\")\n",
        "plt.title(\"Time Comparison\")\n",
        "plt.legend([\"By direct solver\", \"By taking inverse\"])"
      ],
      "metadata": {
        "colab": {
          "base_uri": "https://localhost:8080/",
          "height": 312
        },
        "id": "uK9HUk6_QYRt",
        "outputId": "a3ab9c58-4e92-418b-b395-f59c7a05a808"
      },
      "execution_count": null,
      "outputs": [
        {
          "output_type": "execute_result",
          "data": {
            "text/plain": [
              "<matplotlib.legend.Legend at 0x7fced09befa0>"
            ]
          },
          "metadata": {},
          "execution_count": 3
        },
        {
          "output_type": "display_data",
          "data": {
            "text/plain": [
              "<Figure size 432x288 with 1 Axes>"
            ],
            "image/png": "[encoded data removed]"
          },
          "metadata": {
            "needs_background": "light"
          }
        }
      ]
    },
    {
      "cell_type": "code",
      "source": [
        "# Q2.\n",
        "# function for forward substitution\n",
        "def fdSubs_m(L, b):\n",
        "    ans=[]\n",
        "    n = len(L)\n",
        "    for i in range(n):\n",
        "        k=b[i]\n",
        "        for j in range(i):\n",
        "            k-=L[i,j]*ans[j]\n",
        "        ans.append(np.round(k/L[i,i], 2))\n",
        "    return ans\n",
        "\n",
        "\n",
        "n=3\n",
        "L=np.random.random_sample((n,n))*100//10\n",
        "b=np.random.random_sample((n))*100//10\n",
        "for i in range(n):\n",
        "  for j in range(i+1, n):\n",
        "    L[i,j]=0\n",
        "# remove any zero from diagonal elements\n",
        "for i in range(len(L)):\n",
        "        if(L[i,i]==0): L[i,i]=1\n",
        "\n",
        "print(\"A = \\n\", L, \"\\nb = \", b)\n",
        "print(\"x = \", fdSubs_m(L,b))\n",
        ""
      ],
      "metadata": {
        "colab": {
          "base_uri": "https://localhost:8080/"
        },
        "id": "tWgija6cPWXS",
        "outputId": "514538ad-ed86-4de8-ff74-78ac998d4d0f"
      },
      "execution_count": null,
      "outputs": [
        {
          "output_type": "stream",
          "name": "stdout",
          "text": [
            "A = \n",
            " [[2. 0. 0.]\n",
            " [4. 6. 0.]\n",
            " [2. 3. 1.]] \n",
            "b =  [4. 2. 3.]\n",
            "x =  [2.0, -1.0, 2.0]\n"
          ]
        }
      ]
    },
    {
      "cell_type": "code",
      "source": [
        "# Q3.\n",
        "# function for backward substitution\n",
        "def bdSubs_m(L, b):\n",
        "    n = len(L)\n",
        "    ans = []\n",
        "    for i in range(n-1,-1,-1):\n",
        "        k = b[i]\n",
        "        for j in range(n-1,i,-1):\n",
        "            k -= L[i,j] * ans[n-j-1]\n",
        "        ans.append(np.round(k/L[i,i],2))\n",
        "    return ans\n",
        "\n",
        "\n",
        "n=3\n",
        "L=np.random.random_sample((n ,n ))*100//10\n",
        "b=np.random.random_sample((n))*100//10\n",
        "# remove any zero from diagonal elements\n",
        "for i in range(n):\n",
        "  for j in range(i):\n",
        "    L[i,j]=0\n",
        "for i in range(len(L)):\n",
        "    if(L[i,i]==0): L[i,i]=1\n",
        "\n",
        "print(\"A = \\n\", L, \"\\nb = \", b)\n",
        "print(\"x = \", bdSubs_m(L,b))"
      ],
      "metadata": {
        "colab": {
          "base_uri": "https://localhost:8080/"
        },
        "id": "aaWVY8_IPiIf",
        "outputId": "d63a74da-62fc-478b-9f69-47dc7303fe67"
      },
      "execution_count": null,
      "outputs": [
        {
          "output_type": "stream",
          "name": "stdout",
          "text": [
            "A = \n",
            " [[3. 7. 9.]\n",
            " [0. 7. 8.]\n",
            " [0. 0. 3.]] \n",
            "b =  [7. 6. 0.]\n",
            "x =  [0.0, 0.86, 0.33]\n"
          ]
        }
      ]
    },
    {
      "cell_type": "code",
      "source": [
        "# Q4.\n",
        "# function to compute L and U\n",
        "def luSelfP_m(A):\n",
        "  n=len(A)\n",
        "  lower = np.zeros((n,n))\n",
        "  upper = np.zeros((n,n))\n",
        "\n",
        "  for i in range(n):\n",
        "      for k in range(i, n):\n",
        "          sum = 0\n",
        "          for j in range(i):\n",
        "              sum += (lower[i,j] * upper[j,k])\n",
        "          upper[i,k] = np.round(A[i,k] - sum, 3)\n",
        "\n",
        "      for k in range(i, n):\n",
        "          if (i == k):\n",
        "              lower[i,i] = 1\n",
        "          else:\n",
        "              sum = 0\n",
        "              for j in range(i):\n",
        "                  sum += (lower[k,j] * upper[j,i])\n",
        "              lower[k,i] = np.round(((A[k,i] - sum) /upper[i,i]),3)\n",
        "  # return L and U\n",
        "  return(lower, upper)"
      ],
      "metadata": {
        "id": "5bRVeeJansJo"
      },
      "execution_count": null,
      "outputs": []
    },
    {
      "cell_type": "code",
      "source": [
        "n=8\n",
        "x=np.array([2,-1])\n",
        "x=np.append(x,np.zeros((1,n-2)))            # array to generate A\n",
        "A= toeplitz(x)                              # generate A\n",
        "b=np.ones((1,8))                            # generate b with all ones\n",
        "print(\"A = \\n\", A, \"\\nb = \", b)\n",
        "L,U = luSelfP_m(A)                          # compute LU\n",
        "                                            # Now, AX=b => LUX = b => LY = b\n",
        "print(\"\\nL = \\n\", L, \"\\n\\nU = \\n\", U)\n",
        "Y = fdSubs_m(L, np.transpose(b))            # compute Y\n",
        "X = bdSubs_m(U, Y)                          # compute X\n",
        "print(\"\\n final answer = \", [x[0] for x in X])\n"
      ],
      "metadata": {
        "colab": {
          "base_uri": "https://localhost:8080/"
        },
        "id": "wYlZZsIVs2XJ",
        "outputId": "7d11f1ad-c60d-4367-bb29-d4d061623024"
      },
      "execution_count": null,
      "outputs": [
        {
          "output_type": "stream",
          "name": "stdout",
          "text": [
            "A = \n",
            " [[ 2. -1.  0.  0.  0.  0.  0.  0.]\n",
            " [-1.  2. -1.  0.  0.  0.  0.  0.]\n",
            " [ 0. -1.  2. -1.  0.  0.  0.  0.]\n",
            " [ 0.  0. -1.  2. -1.  0.  0.  0.]\n",
            " [ 0.  0.  0. -1.  2. -1.  0.  0.]\n",
            " [ 0.  0.  0.  0. -1.  2. -1.  0.]\n",
            " [ 0.  0.  0.  0.  0. -1.  2. -1.]\n",
            " [ 0.  0.  0.  0.  0.  0. -1.  2.]] \n",
            "b =  [[1. 1. 1. 1. 1. 1. 1. 1.]]\n",
            "\n",
            "L = \n",
            " [[ 1.     0.     0.     0.     0.     0.     0.     0.   ]\n",
            " [-0.5    1.     0.     0.     0.     0.     0.     0.   ]\n",
            " [ 0.    -0.667  1.     0.     0.     0.     0.     0.   ]\n",
            " [ 0.     0.    -0.75   1.     0.     0.     0.     0.   ]\n",
            " [ 0.     0.     0.    -0.8    1.     0.     0.     0.   ]\n",
            " [ 0.     0.     0.     0.    -0.833  1.     0.     0.   ]\n",
            " [ 0.     0.     0.     0.     0.    -0.857  1.     0.   ]\n",
            " [ 0.     0.     0.     0.     0.     0.    -0.875  1.   ]] \n",
            "\n",
            "U = \n",
            " [[ 2.    -1.     0.     0.     0.     0.     0.     0.   ]\n",
            " [ 0.     1.5   -1.     0.     0.     0.     0.     0.   ]\n",
            " [ 0.     0.     1.333 -1.     0.     0.     0.     0.   ]\n",
            " [ 0.     0.     0.     1.25  -1.     0.     0.     0.   ]\n",
            " [ 0.     0.     0.     0.     1.2   -1.     0.     0.   ]\n",
            " [ 0.     0.     0.     0.     0.     1.167 -1.     0.   ]\n",
            " [ 0.     0.     0.     0.     0.     0.     1.143 -1.   ]\n",
            " [ 0.     0.     0.     0.     0.     0.     0.     1.125]]\n",
            "\n",
            " final answer =  [4.0, 7.0, 9.0, 10.0, 10.0, 9.0, 7.0, 4.0]\n"
          ]
        }
      ]
    }
  ]
}