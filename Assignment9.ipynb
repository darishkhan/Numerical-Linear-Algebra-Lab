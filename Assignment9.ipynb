{
  "nbformat": 4,
  "nbformat_minor": 0,
  "metadata": {
    "colab": {
      "provenance": [],
      "authorship_tag": "ABX9TyOwaICRp7jzls0OXgCFQTVq",
      "include_colab_link": true
    },
    "kernelspec": {
      "name": "python3",
      "display_name": "Python 3"
    },
    "language_info": {
      "name": "python"
    }
  },
  "cells": [
    {
      "cell_type": "markdown",
      "metadata": {
        "id": "view-in-github",
        "colab_type": "text"
      },
      "source": [
        "<a href=\"https://colab.research.google.com/github/darishkhan/Numerical-Linear-Algebra-Lab/blob/main/Assignment9.ipynb\" target=\"_parent\"><img src=\"https://colab.research.google.com/assets/colab-badge.svg\" alt=\"Open In Colab\"/></a>"
      ]
    },
    {
      "cell_type": "markdown",
      "source": [
        "Assignment 9\n",
        "\n",
        "Name : Mohd Darish Khan\n",
        "\n",
        "Roll No.: 2101MC29"
      ],
      "metadata": {
        "id": "HmNy6CaarVru"
      }
    },
    {
      "cell_type": "code",
      "execution_count": null,
      "metadata": {
        "id": "Gnnqro4LaVw3"
      },
      "outputs": [],
      "source": [
        "# libraries used\n",
        "import numpy as np"
      ]
    },
    {
      "cell_type": "code",
      "source": [
        "# function to calculate the solution of Ax = b by using the minimal residual method\n",
        "def SelfMR_m(A, x0, b, maxNumIter, tol=1e-8):\n",
        "  x = x0\n",
        "  r = b - A@x\n",
        "  p = A@r\n",
        "  iter = 0\n",
        "  while(iter < maxNumIter):\n",
        "    alpha = np.dot(r, p)/np.dot(p, p)\n",
        "    x = x + alpha * r\n",
        "    r = r - alpha * p\n",
        "    p = A@r\n",
        "    iter += 1\n",
        "    if(np.linalg.norm(r)<=tol):\n",
        "      break\n",
        "  print(\"No. of iterations: \", iter)\n",
        "  return x"
      ],
      "metadata": {
        "id": "3CPiPOttagNe"
      },
      "execution_count": null,
      "outputs": []
    },
    {
      "cell_type": "code",
      "source": [
        "# function to calculate the solution of Ax = b by using the steepest descent method\n",
        "# copied from assignment 8\n",
        "def SelfSD_m(A, x0, b, maxNumIter, tol = 1e-8):\n",
        "  x = x0\n",
        "  r = b - A@x\n",
        "  p=A@r\n",
        "  iter = 0\n",
        "  while(iter < maxNumIter):\n",
        "    alpha = np.dot(r, r)/np.dot(r, p)\n",
        "    x = x + alpha*r\n",
        "    r = r - alpha*p\n",
        "    p  = A@r\n",
        "    iter+=1\n",
        "    if(np.linalg.norm(r)<=tol):\n",
        "      break\n",
        "  print(\"No. of iterations : \", iter)\n",
        "  return x"
      ],
      "metadata": {
        "id": "GTnoUGq8dD0e"
      },
      "execution_count": null,
      "outputs": []
    },
    {
      "cell_type": "code",
      "source": [
        "A = np.array([[4, -1, 0, 0, 0, 0],\n",
        "[-1, 4, -1, 0, 0, 0],\n",
        "[0, -1, 4, -1, 0, 0],\n",
        "[0, 0, -1, 4, -1, 0],\n",
        "[0, 0, 0, -1, 4, -1],\n",
        "[0, 0, 0, 0, -1, 4]])\n",
        "\n",
        "b = np.array([0, 5, 0, 6, -2, 6])\n",
        "x0 = np.random.random_sample(np.shape(b))\n",
        "\n",
        "print(\"The matrix A : \\n\", A)\n",
        "print(\"\\nThe matrix b : \", b)\n",
        "print(\"\\nThe matrix x0 : \", x0)\n",
        "\n",
        "print(\"\\nBy minimum residual method : \")\n",
        "print(\"Solution = \", SelfMR_m(A, x0, b, 150))\n",
        "\n",
        "print(\"\\nBy steepest descent method : \")\n",
        "print(\"Solution = \", SelfSD_m(A, x0, b, 150))\n",
        "\n",
        "print(\"\\nDirect solution = \", np.linalg.solve(A, b))\n",
        "\n",
        "\n",
        "# Now, we take b as an eigenvector of A and x0 = 0\n",
        "print(\"\\n\\nAfter taking x0=0 and b as an eigenvector of A\")\n",
        "x0 = np.zeros(np.shape(b))\n",
        "b = np.linalg.eig(A)[1][:,0]\n",
        "print(\"The matrix A : \\n\", A)\n",
        "print(\"\\nThe matrix b : \", b)\n",
        "print(\"\\nThe matrix x0 : \", x0)\n",
        "\n",
        "print(\"\\nBy minimal residual method : \")\n",
        "print(\"Solution = \", SelfMR_m(A, x0, b, 150))\n",
        "\n",
        "print(\"\\nBy steepest descent method : \")\n",
        "print(\"Solution = \", SelfSD_m(A, x0, b, 150))\n",
        "\n",
        "print(\"\\nDirect solution = \", np.linalg.solve(A, b))"
      ],
      "metadata": {
        "colab": {
          "base_uri": "https://localhost:8080/"
        },
        "id": "Nlnr9MtbbKmd",
        "outputId": "4999d835-3147-4771-a23c-238bf7f2835f"
      },
      "execution_count": null,
      "outputs": [
        {
          "output_type": "stream",
          "name": "stdout",
          "text": [
            "The matrix A : \n",
            " [[ 4 -1  0  0  0  0]\n",
            " [-1  4 -1  0  0  0]\n",
            " [ 0 -1  4 -1  0  0]\n",
            " [ 0  0 -1  4 -1  0]\n",
            " [ 0  0  0 -1  4 -1]\n",
            " [ 0  0  0  0 -1  4]]\n",
            "\n",
            "The matrix b :  [ 0  5  0  6 -2  6]\n",
            "\n",
            "The matrix x0 :  [0.7909423  0.15241163 0.69062984 0.56173282 0.40304011 0.17492026]\n",
            "\n",
            "By minimum residual method : \n",
            "No. of iterations:  24\n",
            "Solution =  [0.38921333 1.55685331 0.83819993 1.79594641 0.34558571 1.58639643]\n",
            "\n",
            "By steepest descent method : \n",
            "No. of iterations :  23\n",
            "Solution =  [0.38921333 1.55685331 0.83819993 1.79594641 0.34558571 1.58639643]\n",
            "\n",
            "Direct solution =  [0.38921333 1.55685332 0.83819993 1.79594641 0.34558571 1.58639643]\n",
            "\n",
            "\n",
            "After taking x0=0 and b as an eigenvector of A\n",
            "The matrix A : \n",
            " [[ 4 -1  0  0  0  0]\n",
            " [-1  4 -1  0  0  0]\n",
            " [ 0 -1  4 -1  0  0]\n",
            " [ 0  0 -1  4 -1  0]\n",
            " [ 0  0  0 -1  4 -1]\n",
            " [ 0  0  0  0 -1  4]]\n",
            "\n",
            "The matrix b :  [-0.23192061 -0.41790651 -0.52112089 -0.52112089 -0.41790651 -0.23192061]\n",
            "\n",
            "The matrix x0 :  [0. 0. 0. 0. 0. 0.]\n",
            "\n",
            "By minimal residual method : \n",
            "No. of iterations:  1\n",
            "Solution =  [-0.10551139 -0.19012496 -0.23708195 -0.23708195 -0.19012496 -0.10551139]\n",
            "\n",
            "By steepest descent method : \n",
            "No. of iterations :  1\n",
            "Solution =  [-0.10551139 -0.19012496 -0.23708195 -0.23708195 -0.19012496 -0.10551139]\n",
            "\n",
            "Direct solution =  [-0.10551139 -0.19012496 -0.23708195 -0.23708195 -0.19012496 -0.10551139]\n"
          ]
        }
      ]
    },
    {
      "cell_type": "code",
      "source": [
        "# function to calculate the solution of Ax = b by using the Residual Norm Steepest descent method\n",
        "def SelfRNSD_m(A, x0, b, maxNumIter, tol = 1e-8):\n",
        "  x = x0\n",
        "  r = b-A@x\n",
        "  v = np.dot(A, r)\n",
        "  iter = 0\n",
        "  while(iter < maxNumIter):\n",
        "    alpha = np.dot(v, v)/np.dot(A@v, A@v)\n",
        "    x = x + alpha*v\n",
        "    r = r - alpha * A@v\n",
        "    v = np.transpose(A)@r\n",
        "    if(np.linalg.norm(r)<tol):\n",
        "      print(\"Last residual : \", r)\n",
        "      break\n",
        "    iter += 1\n",
        "  print(\"No. of iterations : \", iter)\n",
        "  return x"
      ],
      "metadata": {
        "id": "BGVzpfQNcvgC"
      },
      "execution_count": null,
      "outputs": []
    },
    {
      "cell_type": "code",
      "source": [
        "A = np.array([[1, -6, 9],\n",
        "              [6, 2, 3],\n",
        "              [9, 3, 2]])\n",
        "b = np.array([0, 5, 0])\n",
        "x0 = np.random.random_sample(np.shape(b))\n",
        "\n",
        "print(\"The matrix A : \\n\", A)\n",
        "print(\"\\nThe matrix b : \", b)\n",
        "print(\"\\nThe matrix x0 : \", x0)\n",
        "\n",
        "print(\"\\nBy Residual Norm Steepest Descent method : \")\n",
        "print(\"Solution = \", SelfRNSD_m(A, x0, b, 5000))\n",
        "\n",
        "print(\"\\nBy minimum residual method : \")\n",
        "print(\"Solution = \", SelfMR_m(A, x0, b, 5000))\n",
        "\n",
        "print(\"\\nBy steepest descent method : \")\n",
        "print(\"Solution = \", SelfSD_m(A, x0, b, 5000))\n",
        "\n",
        "print(\"\\nDirect solution = \", np.linalg.solve(A, b))"
      ],
      "metadata": {
        "colab": {
          "base_uri": "https://localhost:8080/"
        },
        "id": "-Yiu2L4whN2h",
        "outputId": "7231b3cc-0868-4823-95bf-b2d549be35b9"
      },
      "execution_count": null,
      "outputs": [
        {
          "output_type": "stream",
          "name": "stdout",
          "text": [
            "The matrix A : \n",
            " [[ 1 -6  9]\n",
            " [ 6  2  3]\n",
            " [ 9  3  2]]\n",
            "\n",
            "The matrix b :  [0 5 0]\n",
            "\n",
            "The matrix x0 :  [0.12454844 0.09124928 0.42410443]\n",
            "\n",
            "By Residual Norm Steepest Descent method : \n",
            "Last residual :  [-8.25769745e-10  8.30090549e-09 -5.36145232e-09]\n",
            "No. of iterations :  2282\n",
            "Solution =  [-2.05263157  4.15789473  2.99999999]\n",
            "\n",
            "By minimum residual method : \n",
            "No. of iterations:  5000\n",
            "Solution =  [-0.09147747  0.44873507  0.26261334]\n",
            "\n",
            "By steepest descent method : \n",
            "No. of iterations :  5000\n",
            "Solution =  [ 2.78814226e+152 -7.14630051e+152 -1.15455736e+153]\n",
            "\n",
            "Direct solution =  [-2.05263158  4.15789474  3.        ]\n"
          ]
        }
      ]
    },
    {
      "cell_type": "code",
      "source": [],
      "metadata": {
        "id": "60ac1X7jtoL1"
      },
      "execution_count": null,
      "outputs": []
    }
  ]
}