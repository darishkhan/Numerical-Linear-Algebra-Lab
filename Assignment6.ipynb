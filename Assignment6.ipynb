{
  "cells": [
    {
      "cell_type": "markdown",
      "metadata": {
        "id": "view-in-github",
        "colab_type": "text"
      },
      "source": [
        "<a href=\"https://colab.research.google.com/github/darishkhan/Numerical-Linear-Algebra-Lab/blob/main/Assignment6.ipynb\" target=\"_parent\"><img src=\"https://colab.research.google.com/assets/colab-badge.svg\" alt=\"Open In Colab\"/></a>"
      ]
    },
    {
      "cell_type": "markdown",
      "source": [
        "Name: Mohd Darish Khan\n",
        "\n",
        "Roll: 2101MC29"
      ],
      "metadata": {
        "id": "Z31y_m9IjrZ3"
      }
    },
    {
      "cell_type": "code",
      "execution_count": null,
      "metadata": {
        "id": "mwnZcU-VFaeB"
      },
      "outputs": [],
      "source": [
        "#importing all necessary libraries\n",
        "import numpy as np\n",
        "import scipy as sp\n",
        "from math import sqrt, pow, sin, cos, radians\n",
        "import matplotlib.pyplot as plt"
      ]
    },
    {
      "cell_type": "code",
      "execution_count": null,
      "metadata": {
        "id": "LL8Kew8kFpvo"
      },
      "outputs": [],
      "source": [
        "#function to compute Singular Value Decomposition of any given matrix\n",
        "def SelfSVD_m(A, tol=1e-8):\n",
        "  AtransA = np.transpose(A)@A                  #Atranspose*A\n",
        "\n",
        "  lamda, eigVec = sp.linalg.eig(AtransA)       #calculating the eigenvalues and eigenvectors\n",
        "\n",
        "  sigma = {}                                   #initialing an empty dictionary\n",
        "  for i in range(len(eigVec)):\n",
        "    if(lamda[i]>tol):\n",
        "      sigma[sqrt(np.real(lamda[i]))] = eigVec[:, i]     #mapping the eigenvectors to the eigenvalues(if greater than tolerance)\n",
        "\n",
        "  keys = list(sigma.keys())                    #making a keys list\n",
        "  keys.sort(reverse=True)                      #and sorting them in non increasing order\n",
        "\n",
        "  eigens = {i: sigma[i] for i in keys}         #reconstructiong the sorted dictionary\n",
        "\n",
        "  U = np.empty([len(A), len(A)])               #initialising an empty matrix to store u vectors\n",
        "\n",
        "  k=0\n",
        "  for i in eigens.keys():\n",
        "    if(k>=len(U)):                             #condition for compact SVD\n",
        "      break\n",
        "    U[:,k] = A@eigens[i]/i\n",
        "    k+=1\n",
        "\n",
        "  sigma = np.zeros((len(A), len(A[0])))        #final sigma matrix\n",
        "  k=0\n",
        "  for i in eigens.keys():\n",
        "    if(k>=len(A)):\n",
        "      break;\n",
        "    sigma[k, k] = i\n",
        "    k+=1\n",
        "\n",
        "  # returning the computed Umatrix, sigmaMatrix and VtransposeMatrix\n",
        "  return (np.array(U), sigma, np.transpose(eigVec))"
      ]
    },
    {
      "cell_type": "code",
      "execution_count": null,
      "metadata": {
        "colab": {
          "base_uri": "https://localhost:8080/"
        },
        "id": "ZqseCI1wGAX4",
        "outputId": "47f64538-dc3b-4508-f75e-44d95a837110"
      },
      "outputs": [
        {
          "output_type": "stream",
          "name": "stdout",
          "text": [
            "By our function: \n",
            "U = \n",
            " [[ 0.4472136   0.89442719]\n",
            " [ 0.89442719 -0.4472136 ]] \n",
            "\n",
            "sigma = \n",
            " [[6.32455532 0.        ]\n",
            " [0.         3.16227766]] \n",
            "\n",
            "Vtranspose = \n",
            " [[ 0.70710678 -0.70710678]\n",
            " [ 0.70710678  0.70710678]] \n",
            "\n",
            "By inbuilt function: \n",
            "U = \n",
            " [[-0.4472136  -0.89442719]\n",
            " [-0.89442719  0.4472136 ]] \n",
            "\n",
            "sigma = \n",
            " [6.32455532 3.16227766] \n",
            "\n",
            "Vtranspose = \n",
            " [[-0.70710678  0.70710678]\n",
            " [-0.70710678 -0.70710678]] \n",
            "\n"
          ]
        }
      ],
      "source": [
        "A = np.array([[4, 0],\n",
        "             [3, -5]])               #initialise some matrix to compute svd\n",
        "\n",
        "U, s, Vt = SelfSVD_m(A, 0)           #get the SVD by designed function\n",
        "print(\"By our function: \")\n",
        "print(\"U = \\n\",U,\"\\n\")\n",
        "print(\"sigma = \\n\",s,\"\\n\")\n",
        "print(\"Vtranspose = \\n\",Vt,\"\\n\")\n",
        "\n",
        "U, s, Vt = sp.linalg.svd(A)          #get the SVD by built-in function\n",
        "print(\"By inbuilt function: \")\n",
        "print(\"U = \\n\",U,\"\\n\")\n",
        "print(\"sigma = \\n\",s,\"\\n\")\n",
        "print(\"Vtranspose = \\n\",Vt,\"\\n\")"
      ]
    },
    {
      "cell_type": "code",
      "source": [
        "#function to compute Low Rank Approximation\n",
        "def SelfLRA_m(A, k):\n",
        "  U, s, Vt = SelfSVD_m(A)               #computing Umatrix, sigmaMatrix, VtransposeMatrix by SelfSVD function\n",
        "  Ak = np.zeros((len(A), len(A[0])))    #initializing Ak as zero matrix\n",
        "\n",
        "  for i in range(k):                    # we will loop upto k for a k rank matrix\n",
        "    C = np.transpose(U[:,i])\n",
        "\n",
        "    #updating Ak\n",
        "    Ak = Ak + s[i][i]*np.matmul(np.transpose(np.atleast_2d(U[:,i])),np.atleast_2d(Vt[i,:]))\n",
        "\n",
        "  return Ak"
      ],
      "metadata": {
        "id": "KIkxk1yIQ5Vo"
      },
      "execution_count": null,
      "outputs": []
    },
    {
      "cell_type": "code",
      "source": [
        "A = np.random.random_sample((4, 5))                  #a random matrix of dimension 4x5\n",
        "print(\"Matrix A = \\n\", A, \"\\n\")\n",
        "\n",
        "k = 2\n",
        "Ak = SelfLRA_m(A, k)                                 #LRA for rank (k=2)<min(m=4,n=5)\n",
        "print(\"Matrix Ak (where k = \", k, \") \\n \", Ak,\"\\n\")\n",
        "\n",
        "B = np.zeros((4, 5))                                 #generating a random matrix of 4x5\n",
        "for i in range(k):                                   # we will make rank of B = k\n",
        "  u = np.random.random_sample((4, 1))\n",
        "  vt = np.random.random_sample((1, 5))\n",
        "  B = B + np.matmul(u,vt)\n",
        "\n",
        "print(\"2nd norm when taken : \")                      #comparison of 2nd norm of both\n",
        "print(\"B = Ak is : \", np.linalg.norm(A-Ak, 2))\n",
        "print(\"B randomly: \", np.linalg.norm(A-B, 2))\n",
        "\n",
        "print(\"\\nFrobenius norm when taken : \")              #comparison of frobenius norm of both\n",
        "print(\"B = Ak is : \", np.linalg.norm(A-Ak, 'fro'))\n",
        "print(\"B randomly: \", np.linalg.norm(A-B, 'fro'))\n"
      ],
      "metadata": {
        "colab": {
          "base_uri": "https://localhost:8080/"
        },
        "id": "Wq1I31wsSITV",
        "outputId": "9de1b1be-607a-4eb9-c417-b1ea2ea368c9"
      },
      "execution_count": null,
      "outputs": [
        {
          "output_type": "stream",
          "name": "stdout",
          "text": [
            "Matrix A = \n",
            " [[1.55332756e-02 5.93481408e-01 4.33676349e-01 8.07360529e-01\n",
            "  3.15244803e-01]\n",
            " [8.92888709e-01 5.77857215e-01 1.84010202e-01 7.87929234e-01\n",
            "  6.12031177e-01]\n",
            " [5.39092721e-02 4.20193680e-01 6.79068837e-01 9.18601778e-01\n",
            "  4.02024891e-04]\n",
            " [9.76759149e-01 3.76580315e-01 9.73783538e-01 6.04716101e-01\n",
            "  8.28845808e-01]] \n",
            "\n",
            "Matrix Ak (where k =  2 ) \n",
            "  [[ 0.1005135   0.48199114  0.5343613   0.82656572  0.17670081]\n",
            " [ 0.8028345   0.43059765  0.56352929  0.63273956  0.64317773]\n",
            " [-0.0086973   0.52348996  0.5661293   0.91520272  0.1116917 ]\n",
            " [ 1.03767646  0.50217797  0.66945603  0.72289521  0.8191009 ]] \n",
            "\n",
            "2nd norm when taken : \n",
            "B = Ak is :  0.592556493498672\n",
            "B randomly:  1.02072242322969\n",
            "\n",
            "Frobenius norm when taken : \n",
            "B = Ak is :  0.6435374532302083\n",
            "B randomly:  1.3648058995715504\n"
          ]
        }
      ]
    },
    {
      "cell_type": "code",
      "execution_count": null,
      "metadata": {
        "id": "aMu2RiofGIWG"
      },
      "outputs": [],
      "source": [
        "#function to calculate Principal Component Analysis\n",
        "def SelfPCA_m():\n",
        "  n = 100\n",
        "  np.random.seed(1)\n",
        "  x1 = np.random.randn(n)\n",
        "  x2 = np.random.rand(n)*0.4\n",
        "  A = np.array([x1,x2])\n",
        "\n",
        "  angle = radians(60)\n",
        "  rot = np.array([[cos(angle), -sin(angle)],     #rotation matrix for 60 degrees anticlockwise rotation\n",
        "                  [sin(angle), cos(angle)]])\n",
        "  D = rot@A                                      #rotating A by 60 degrees anticlockwise\n",
        "\n",
        "  plt.plot(D[0], D[1], '*')                      #plotting points of x2 - x1\n",
        "  plt.axis([-4,4,-4,4])                          #graph axis from -4 to 4 on both axis\n",
        "\n",
        "  Q = (D@np.transpose(D))/(n-1)                  #making the Covariance matrix Q\n",
        "\n",
        "  lamda, eigVec = sp.linalg.eig(Q)               #compute the eigenvalues and eigenvectors of Q\n",
        "  sigma = {}\n",
        "  V = np.zeros((len(lamda), len(eigVec[0])))\n",
        "  for i in range(len(eigVec)):\n",
        "    sigma[sqrt(np.real(lamda[i]))] = eigVec[:, i]     #mapping the eigenvectors to the eigenvalues(if greater than tolerance)\n",
        "\n",
        "  keys = list(sigma.keys())                    #making a keys list\n",
        "  keys.sort(reverse=True)                      #and sorting them in non increasing order\n",
        "\n",
        "  eigens = {i: sigma[i] for i in keys}\n",
        "  k=0\n",
        "  for i in eigens.keys():\n",
        "    V[k]=eigens[i]                             #making the list of eigenvectors in non increasing order\n",
        "    k+=1\n",
        "  print(\"List of eigen vectors: \", V)\n",
        "  print(\"Principal Component vector: \", V[0])  #this is the u1 vector\n",
        "\n",
        "  x=np.linspace(-4, 4, 2)\n",
        "  y = (V[0,1]/V[0,0])*x\n",
        "  plt.plot(x, y, 'r')         #plotting the u1 vector on the graph\n",
        "  plt.legend(['data points', 'principal vector direction'])"
      ]
    },
    {
      "cell_type": "code",
      "execution_count": null,
      "metadata": {
        "id": "0bPsq0pdYx8T",
        "colab": {
          "base_uri": "https://localhost:8080/",
          "height": 487
        },
        "outputId": "9eeb1a27-6cc6-4a5a-964c-b41bea12c702"
      },
      "outputs": [
        {
          "output_type": "stream",
          "name": "stdout",
          "text": [
            "List of eigen vectors:  [[-0.48498216 -0.87452404]\n",
            " [-0.87452404  0.48498216]]\n",
            "Principal Component vector:  [-0.48498216 -0.87452404]\n"
          ]
        },
        {
          "output_type": "display_data",
          "data": {
            "text/plain": [
              "<Figure size 640x480 with 1 Axes>"
            ],
            "image/png": "[encoded data removed]"
          },
          "metadata": {}
        }
      ],
      "source": [
        "SelfPCA_m()"
      ]
    },
    {
      "cell_type": "code",
      "execution_count": null,
      "metadata": {
        "id": "N6YrENPNbqrN"
      },
      "outputs": [],
      "source": []
    }
  ],
  "metadata": {
    "colab": {
      "provenance": [],
      "authorship_tag": "ABX9TyMkGTC3zeTEr6okftpZniko",
      "include_colab_link": true
    },
    "kernelspec": {
      "display_name": "Python 3",
      "name": "python3"
    },
    "language_info": {
      "name": "python"
    }
  },
  "nbformat": 4,
  "nbformat_minor": 0
}