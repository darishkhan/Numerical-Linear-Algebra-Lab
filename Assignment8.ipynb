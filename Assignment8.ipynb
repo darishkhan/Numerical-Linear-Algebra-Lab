{
  "nbformat": 4,
  "nbformat_minor": 0,
  "metadata": {
    "colab": {
      "provenance": [],
      "authorship_tag": "ABX9TyMisBa/SAQo9RzxktNgpgtW",
      "include_colab_link": true
    },
    "kernelspec": {
      "name": "python3",
      "display_name": "Python 3"
    },
    "language_info": {
      "name": "python"
    }
  },
  "cells": [
    {
      "cell_type": "markdown",
      "metadata": {
        "id": "view-in-github",
        "colab_type": "text"
      },
      "source": [
        "<a href=\"https://colab.research.google.com/github/darishkhan/Numerical-Linear-Algebra-Lab/blob/main/Assignment8.ipynb\" target=\"_parent\"><img src=\"https://colab.research.google.com/assets/colab-badge.svg\" alt=\"Open In Colab\"/></a>"
      ]
    },
    {
      "cell_type": "markdown",
      "source": [
        "**Assignment 8**\n",
        "\n",
        "Name: Mohd Darish Khan\n",
        "\n",
        "Roll No.: 2101MC29"
      ],
      "metadata": {
        "id": "YVErYF_gBosO"
      }
    },
    {
      "cell_type": "code",
      "execution_count": null,
      "metadata": {
        "id": "zweWJAeFdrP_"
      },
      "outputs": [],
      "source": [
        "# all the necessary libraries\n",
        "import numpy as np\n",
        "import scipy as sp"
      ]
    },
    {
      "cell_type": "code",
      "source": [
        "# function to calculate the dominant eigenvalue by power method (for CSR matrices)\n",
        "def SelfPower_m(A, x0, maxNumIter, tol=1e-8):\n",
        "  lamda = 0\n",
        "  i = 0\n",
        "  x_ = x0/sp.sparse.linalg.norm(x0)\n",
        "  prevlamda = 1e15\n",
        "\n",
        "  while(i < maxNumIter):\n",
        "    x_ = x_.transpose()\n",
        "    p = sp.sparse.csr_matrix(A.toarray()@x_.toarray())\n",
        "    x_=x_.transpose()\n",
        "    p_ = p/sp.sparse.linalg.norm(p)\n",
        "    lamda = (x_.toarray()@p.toarray())[0,0]\n",
        "    if(abs(lamda-prevlamda)<tol*abs(lamda)):\n",
        "      break\n",
        "    i+=1\n",
        "    x_=p_.transpose()\n",
        "    prevlamda = lamda\n",
        "  print(\"Actual Iterations done = \",i)\n",
        "  return lamda"
      ],
      "metadata": {
        "id": "iKPqGslhpsJJ"
      },
      "execution_count": null,
      "outputs": []
    },
    {
      "cell_type": "code",
      "source": [
        "A = np.array([[4, -1, 0, 0, 0, 0],\n",
        "              [-1, 4, -1, 0, 0, 0],\n",
        "              [0, -1, 4, -1, 0, 0],\n",
        "              [0, 0, -1, 4, -1, 0],\n",
        "              [0, 0, 0, -1, 4, -1],\n",
        "              [0, 0, 0, 0, -1, 4]])\n",
        "x0 = np.random.random_sample(len(A))\n",
        "A1 = sp.sparse.csr_matrix(A)\n",
        "x1 = sp.sparse.csr_array(x0)\n",
        "print(\"By our function: \\n\", SelfPower_m(A1, x1, 150))\n",
        "print(\"By inbuilt eig function: \\n\", np.max(np.linalg.eig(A)[0]))\n"
      ],
      "metadata": {
        "colab": {
          "base_uri": "https://localhost:8080/"
        },
        "id": "3tAuonKNqHs5",
        "outputId": "f9e8f9e2-3e14-469b-ed45-7757f39c8426"
      },
      "execution_count": null,
      "outputs": [
        {
          "output_type": "stream",
          "name": "stdout",
          "text": [
            "Actual Iterations done =  40\n",
            "By our function: \n",
            " 5.801937497714188\n",
            "By inbuilt eig function: \n",
            " 5.801937735804842\n"
          ]
        }
      ]
    },
    {
      "cell_type": "code",
      "source": [
        "def SelfSD_m(A, x0, b, maxNumIter, tol = 1e-8):\n",
        "  x = x0\n",
        "  r = b-A@x\n",
        "  p=A@r\n",
        "  while(maxNumIter>0):\n",
        "    alpha = np.dot(r, r)/np.dot(r, p)\n",
        "    x = x + alpha*r\n",
        "    r = r - alpha*p\n",
        "    p  = A@r\n",
        "    if(np.linalg.norm(r)<tol):\n",
        "      break\n",
        "  return x\n"
      ],
      "metadata": {
        "id": "XU8aghMPgYy5"
      },
      "execution_count": null,
      "outputs": []
    },
    {
      "cell_type": "code",
      "source": [
        "A = np.array([[4, -1, 0, 0, 0, 0],\n",
        "              [-1, 4, -1, 0, 0, 0],\n",
        "              [0, -1, 4, -1, 0, 0],\n",
        "              [0, 0, -1, 4, -1, 0],\n",
        "              [0, 0, 0, -1, 4, -1],\n",
        "              [0, 0, 0, 0, -1, 4]])\n",
        "b = np.array([0,5,0,6,-2,6])\n",
        "x0 = np.random.random_sample(np.shape(b))\n",
        "print(\"The matrix A = \\n\", A)\n",
        "print(\"\\nThe matrix b = \\n\", b)\n",
        "print(\"\\nInitial random guess, x0 = \\n\", x0)\n",
        "print(\"\\nSolution from our Steepest Descent function: \\n\", SelfSD_m(A, x0, b, 150))\n",
        "print(\"\\nSolution from inbuilt direct solver: \\n\", np.linalg.solve(A, b))\n"
      ],
      "metadata": {
        "colab": {
          "base_uri": "https://localhost:8080/"
        },
        "id": "uelJ6QqBgbtK",
        "outputId": "0d9ea9c4-fec8-40d4-9f89-e31458f4feac"
      },
      "execution_count": null,
      "outputs": [
        {
          "output_type": "stream",
          "name": "stdout",
          "text": [
            "The matrix A = \n",
            " [[ 4 -1  0  0  0  0]\n",
            " [-1  4 -1  0  0  0]\n",
            " [ 0 -1  4 -1  0  0]\n",
            " [ 0  0 -1  4 -1  0]\n",
            " [ 0  0  0 -1  4 -1]\n",
            " [ 0  0  0  0 -1  4]]\n",
            "\n",
            "The matrix b = \n",
            " [ 0  5  0  6 -2  6]\n",
            "\n",
            "Initial random guess, x0 = \n",
            " [0.33317715 0.8388164  0.30799212 0.87419456 0.2605018  0.09579028]\n",
            "\n",
            "Solution from our Steepest Descent function: \n",
            " [0.38921333 1.55685331 0.83819993 1.79594641 0.34558571 1.58639643]\n",
            "\n",
            "Solution from inbuilt direct solver: \n",
            " [0.38921333 1.55685332 0.83819993 1.79594641 0.34558571 1.58639643]\n"
          ]
        }
      ]
    },
    {
      "cell_type": "code",
      "source": [],
      "metadata": {
        "id": "KCOEXFxLoPhn"
      },
      "execution_count": null,
      "outputs": []
    }
  ]
}